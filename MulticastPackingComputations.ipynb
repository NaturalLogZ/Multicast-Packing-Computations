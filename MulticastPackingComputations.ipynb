{
 "cells": [
  {
   "cell_type": "markdown",
   "id": "e735038d-1358-4c06-9b44-28fc1ed8e6e2",
   "metadata": {
    "tags": []
   },
   "source": [
    "# Import Statements"
   ]
  },
  {
   "cell_type": "code",
   "execution_count": null,
   "id": "e5e59500-2ffe-44ef-a2b0-a9b0895dfcce",
   "metadata": {},
   "outputs": [],
   "source": [
    "import gurobipy as gp\n",
    "import networkx as nx\n",
    "from networkx.algorithms.approximation.steinertree import steiner_tree as steiner_tree_2\n",
    "import random\n",
    "from math import log\n",
    "import scipy\n",
    "from scipy.optimize import newton\n",
    "from scipy.optimize import root_scalar\n",
    "import sympy\n",
    "from abc import ABC, abstractmethod"
   ]
  },
  {
   "cell_type": "markdown",
   "id": "cd10f2ef-5d60-446f-a349-1e702c3dcf81",
   "metadata": {
    "jp-MarkdownHeadingCollapsed": true,
    "tags": []
   },
   "source": [
    "# Constants"
   ]
  },
  {
   "cell_type": "markdown",
   "id": "a34056aa-f2e2-420e-98a4-cd3c76f94820",
   "metadata": {
    "jp-MarkdownHeadingCollapsed": true,
    "tags": []
   },
   "source": [
    "## Debug Level Flags"
   ]
  },
  {
   "cell_type": "code",
   "execution_count": null,
   "id": "fb5f0a6f-0aa4-48ac-a329-5dc8e2d6e9de",
   "metadata": {},
   "outputs": [],
   "source": [
    "DEBUG_LEVEL_NONE = 0\n",
    "DEBUG_LEVEL_THEORY_1 = 1.1\n",
    "DEBUG_LEVEL_THEORY_2 = 1.2\n",
    "DEBUG_LEVEL_FULL = 2\n",
    "DEBUG_LEVEL_EXTREME = 3"
   ]
  },
  {
   "cell_type": "markdown",
   "id": "62583b61-edf5-4ac7-9470-fe9bd2c7db39",
   "metadata": {
    "jp-MarkdownHeadingCollapsed": true,
    "tags": []
   },
   "source": [
    "## General Constants"
   ]
  },
  {
   "cell_type": "code",
   "execution_count": null,
   "id": "766e0ad8-fa6e-4706-a18e-db5b6db1e819",
   "metadata": {},
   "outputs": [],
   "source": [
    "DEBUG_LEVEL = DEBUG_LEVEL_THEORY_1\n",
    "NUM_NODES = 100\n",
    "NUM_EDGES = 150\n",
    "DEGREE = 3\n",
    "NUM_MULTICAST_REQUESTS = 50\n",
    "MAX_MULTICAST_SIZE = NUM_NODES//5\n",
    "TOLERANCE = 0.1\n",
    "\n",
    "NATURAL = 0\n",
    "UNIFORM = 1\n",
    "PERTURB = 2"
   ]
  },
  {
   "cell_type": "markdown",
   "id": "8f7e88bc-8c97-485d-9b2d-cf75d8298e4b",
   "metadata": {
    "jp-MarkdownHeadingCollapsed": true,
    "tags": []
   },
   "source": [
    "# Helper Functions"
   ]
  },
  {
   "cell_type": "code",
   "execution_count": null,
   "id": "c51ac806-5d86-4925-a965-089895414e23",
   "metadata": {
    "tags": []
   },
   "outputs": [],
   "source": [
    "def dict_innerProd(x, y):\n",
    "    assert x.keys() == y.keys()\n",
    "    return sum(x[key]*y[key] for key in x.keys())"
   ]
  },
  {
   "cell_type": "markdown",
   "id": "cb5ea106-08a1-47e6-9c13-3302d8ed1e4a",
   "metadata": {
    "jp-MarkdownHeadingCollapsed": true,
    "tags": []
   },
   "source": [
    "# Generating Problem Instances"
   ]
  },
  {
   "cell_type": "code",
   "execution_count": null,
   "id": "a5e26a27-d4bc-47fc-8704-c071fdd64b44",
   "metadata": {},
   "outputs": [],
   "source": [
    "def is_connected(G):\n",
    "    return nx.is_k_edge_connected(G, 1)\n",
    "\n",
    "def get_random_connected_graph():\n",
    "    G = nx.empty_graph(NUM_NODES)\n",
    "    while not is_connected(G):\n",
    "        G = nx.random_regular_graph(DEGREE, NUM_NODES)\n",
    "    return G\n",
    "\n",
    "class MulticastRequest:\n",
    "    def __init__(self, size, graph, source=None, recipients=None):\n",
    "        if source is None and recipients is None:\n",
    "            multicast_group = random.sample(list(graph), size)\n",
    "            source = multicast_group[0]\n",
    "            recipients = set(multicast_group[1:])\n",
    "        self.source = source\n",
    "        self.recipients = recipients\n",
    "        self.size = len(recipients) + 1\n",
    "    \n",
    "    def multicast_group(self):\n",
    "        return self.recipients.union([self.source])\n",
    "\n",
    "class MulticastPackingInstance:\n",
    "    def __init__(self, num_requests, max_request_size, graph=None, requests=None):\n",
    "        if graph is None:\n",
    "            graph = get_random_connected_graph()\n",
    "        if requests is None:\n",
    "            requests = list()\n",
    "            for i in range(num_requests):\n",
    "                k = random.randint(2, max_request_size)\n",
    "                requests.append(MulticastRequest(k, graph))\n",
    "        self.graph = graph\n",
    "        self.num_edges = len(self.graph.edges())\n",
    "        self.requests = requests\n",
    "        self.num_requests = len(requests)"
   ]
  },
  {
   "cell_type": "markdown",
   "id": "70ad78cb-5581-44ab-96cf-806dc799e4bc",
   "metadata": {
    "jp-MarkdownHeadingCollapsed": true,
    "tags": []
   },
   "source": [
    "# Jansen-Zhang General Convex min-max"
   ]
  },
  {
   "cell_type": "code",
   "execution_count": null,
   "id": "a7a3fdbd-d5b9-4206-8697-8f1fe8eed730",
   "metadata": {},
   "outputs": [],
   "source": [
    "def theta_eq(theta, x, t, M, f):\n",
    "    retval = 1\n",
    "    for e in self.instance.graph.edges():\n",
    "        retval = retval - t*theta/(M*(theta - f(x,e)))\n",
    "    print(\"theta = {}\".format(theta))\n",
    "    print(\"theta_eq = {}\".format(retval))\n",
    "    return retval\n",
    "\n",
    "def derivative_theta_eq(theta, x, t, M, f):\n",
    "    retval = 0\n",
    "    for e in self.instance.graph.edges():\n",
    "        retval = retval + t*f(x,e)/(M*(theta - f(x,e))*(theta - f(x,e)))\n",
    "    print(\"d_theta_eq = {}\".format(retval))\n",
    "    return retval\n",
    "\n",
    "class JansenZhangMinMaxer:\n",
    "    sigma0 = 1\n",
    "    \n",
    "    def __init__(self, constraint_indices, f, approx_block_solver):\n",
    "        self.constraint_indices = constraint_indices\n",
    "        self.M = len(constraint_indices)\n",
    "        self.f = f\n",
    "        self.abs = approx_block_solver\n",
    "        self.current_solution = None\n",
    "        self.lamb = dict()\n",
    "        self.t = self.sigma0/6\n",
    "        self.prices = dict()\n",
    "        self.theta = dict()\n",
    "    \n",
    "    # Define a function that computes theta_t(x)\n",
    "    def theta_via_sympy(self, x, t):\n",
    "        M = self.M\n",
    "        f = self.f\n",
    "        \n",
    "        theta = sympy.Symbol('theta')\n",
    "        expression = 1\n",
    "        for m in constraint_indices:\n",
    "            expression -= (t/M) * theta/(theta - f(x,m))\n",
    "        soln_set = sympy.solvers.solveset(expression, theta, domain=sympy.Interval(self.lamb[x], sympy.S.Infinity, True, True))\n",
    "        #assert len(soln_set == 1)\n",
    "        if DEBUG_LEVEL >= DEBUG_LEVEL_FULL:\n",
    "            print(soln_set)\n",
    "        for soln in soln_set:\n",
    "            retval = soln\n",
    "        return retval\n",
    "        \n",
    "    def calculate_theta(x, t):\n",
    "        return scipy.optimize.brentq(theta_eq, self.lamb[x]/(1-t/self.M), self.lamb[x]/(1-t), args=(x, t, self.M, self.f))\n",
    "        #return scipy.optimize.newton(theta_eq, x0, derivative_theta_eq, args=(x, t, self.M, self.f))\n",
    "    \n",
    "    def get_theta(x, t):\n",
    "        if (x,t) not in self.theta:\n",
    "            self.theta[(x,t)] = self.calculate_theta(x,t)\n",
    "        return self.theta[(x,t)]\n",
    "    \n",
    "    # Define a function that computes p_t_e(x)\n",
    "    def get_price(m,x,t):\n",
    "        M = self.M\n",
    "        f = self.f\n",
    "        \n",
    "        if (x,t) not in prices:\n",
    "            prices[(x,t)] = [None]*M\n",
    "            for n in constraint_indices:\n",
    "                prices[(x,t)][n] = t*get_theta(x,t)/(M*(get_theta(x,t) - f(x,n)))\n",
    "        return prices[(x,t)][m]"
   ]
  },
  {
   "cell_type": "markdown",
   "id": "ffeb6e0a-d4e8-4924-8b07-4ed69e91ff40",
   "metadata": {
    "jp-MarkdownHeadingCollapsed": true,
    "tags": []
   },
   "source": [
    "# Create (Reduced) LP"
   ]
  },
  {
   "cell_type": "code",
   "execution_count": null,
   "id": "c14efbe3-97bb-49db-adab-8bfb4861d495",
   "metadata": {},
   "outputs": [],
   "source": [
    "def create_LP(G, multicast_requests):\n",
    "    nx.set_edge_attributes(G, 1, \"weight\")\n",
    "    reduced_LP = gp.Model(\"Multicast Packing Model - Reduced\")\n",
    "    congestion = reduced_LP.addVar(name=\"lambda\")\n",
    "    reduced_LP.setObjective(congestion, gp.GRB.MINIMIZE)\n",
    "    reduced_LP.update()\n",
    "    # Packing Constraints\n",
    "    for e in G.edges():\n",
    "        reduced_LP.addConstr(congestion >= 0, name=\"{} congestion\".format(sorted(e)))\n",
    "    # Simplex Constraints\n",
    "    for i in range(len(multicast_requests)):\n",
    "        reduced_LP.addConstr(0*congestion == 1, name=\"Tree Selection for {}\".format(i))\n",
    "    reduced_LP.update()\n",
    "    return reduced_LP"
   ]
  },
  {
   "cell_type": "markdown",
   "id": "f26821fc-8a4b-4764-8cdf-b0602661bad9",
   "metadata": {
    "jp-MarkdownHeadingCollapsed": true,
    "tags": []
   },
   "source": [
    "# Column Generating Subproblem"
   ]
  },
  {
   "cell_type": "code",
   "execution_count": null,
   "id": "8577ef76-10a6-4c6f-9123-6f95e46c8893",
   "metadata": {},
   "outputs": [],
   "source": [
    "def cost(G):\n",
    "        assert nx.is_weighted(G)\n",
    "        return sum (nx.get_edge_attributes(G, \"weight\").values())\n",
    "\n",
    "class MulticastPackingColumnGenerator:\n",
    "    def __init__(self, instance, reduced_LP):\n",
    "        self.instance = instance\n",
    "        self.reduced_LP = reduced_LP\n",
    "        self.generate_tree = lambda i: nx.algorithms.approximation.steinertree.steiner_tree(self.instance.graph, self.instance.requests[i].multicast_group())\n",
    "        \n",
    "    def generate_new_trees(self):\n",
    "        new_trees = list()\n",
    "        assert nx.is_weighted(self.instance.graph)\n",
    "        for i in range(self.instance.num_requests):\n",
    "            new_tree = self.generate_tree(i)\n",
    "            new_trees.append(new_tree)\n",
    "            \n",
    "            coeffs = list()\n",
    "            constrs = list()\n",
    "            # the new tree contributes to the constraint for each of its edges\n",
    "            for e in new_tree.edges():\n",
    "                coeffs.append(-1)\n",
    "                constrs.append(self.reduced_LP.getConstrByName(\"{} congestion\".format(sorted(e))))\n",
    "            \n",
    "            # the new tree contributes to the selection constraint for the corresponding multicast request\n",
    "            coeffs.append(1)\n",
    "            constrs.append(self.reduced_LP.getConstrByName(\"Tree Selection for {}\".format(i)))\n",
    "            self.reduced_LP.addVar(name=\"x{}{}\".format(i, nx.info(new_tree)), column=gp.Column(coeffs, constrs))\n",
    "            \n",
    "        self.reduced_LP.update()\n",
    "        return new_trees"
   ]
  },
  {
   "cell_type": "markdown",
   "id": "6298cf3d-ad88-4128-b4cb-23823f79cff2",
   "metadata": {
    "tags": []
   },
   "source": [
    "# Solvers"
   ]
  },
  {
   "cell_type": "markdown",
   "id": "9cb03264-8b2d-49f3-8d31-71ec3fbd91fa",
   "metadata": {
    "tags": []
   },
   "source": [
    "## Abstract Solver Class"
   ]
  },
  {
   "cell_type": "code",
   "execution_count": null,
   "id": "8ab0a958-3ef1-494b-a250-149de75f3c89",
   "metadata": {},
   "outputs": [],
   "source": [
    "class MulticastPackingSolver(ABC):\n",
    "    \n",
    "    # Constructor\n",
    "    def __init__(self, instance=None, block_solver=None):\n",
    "        # Attributes related to problem instance\n",
    "        if instance is None:\n",
    "            instance = MulticastPackingInstance(NUM_MULTICAST_REQUESTS, MAX_MULTICAST_SIZE)\n",
    "        self.instance = instance\n",
    "        self.reduced_LP = create_LP(self.instance.graph, self.instance.requests)\n",
    "        \n",
    "        # Attributes related to how this solver generates columns and solutions\n",
    "        if block_solver == None:\n",
    "            block_solver = MulticastPackingColumnGenerator(self.instance, self.reduced_LP)\n",
    "        self.column_generator = block_solver\n",
    "        \n",
    "        # Attributes that track things\n",
    "        self.tol = TOLERANCE\n",
    "        self.stop_flag = False\n",
    "        self.iteration = 0\n",
    "        self.solution = list()\n",
    "        self.objVal = dict()\n",
    "        self.fVal = dict()\n",
    "        self.price = dict()\n",
    "        self.multicast_costs = dict()\n",
    "        self.new_trees = self.column_generator.generate_new_trees()\n",
    "        \n",
    "        if DEBUG_LEVEL >= DEBUG_LEVEL_EXTREME:\n",
    "            print(reduced_LP.getA().toarray())\n",
    "            print(reduced_LP.getAttr(\"RHS\"))\n",
    "    \n",
    "    # Abstract methods for generating values of functions needed by the solver\n",
    "    \n",
    "    @abstractmethod\n",
    "    def get_next_solution(self):\n",
    "        pass\n",
    "    \n",
    "    @abstractmethod\n",
    "    def perform_checks_and_updates(self):\n",
    "        pass\n",
    "    \n",
    "    @abstractmethod\n",
    "    def generate_lamb(self, x):\n",
    "        pass\n",
    "    \n",
    "    @abstractmethod\n",
    "    def generate_fVal(self, x):\n",
    "        pass\n",
    "     \n",
    "    @abstractmethod   \n",
    "    def generate_p(self, x, t=0):\n",
    "        pass\n",
    "    \n",
    "    @abstractmethod\n",
    "    def generate_q(self, x, t=0):\n",
    "        pass\n",
    "    \n",
    "    # Methods for accessing values of functions needed by the solver\n",
    "    \n",
    "    def lamb(self, x):\n",
    "        if x not in self.objVal:\n",
    "            self.generate_lamb(x)\n",
    "        return self.objVal[x]\n",
    "    \n",
    "    def f(self, x):\n",
    "        if x not in self.fVal:\n",
    "            self.generate_fVal(x)\n",
    "        return self.fVal[x]\n",
    "    \n",
    "    def p(self, x, t=0):\n",
    "        if x not in self.price:\n",
    "            self.generate_p(x)\n",
    "        return self.price[x]\n",
    "    \n",
    "    def q(self, x, t=0):\n",
    "        if x not in self.multicast_costs:\n",
    "            self.generate_q(x)\n",
    "        return self.multicast_costs[x]\n",
    "    \n",
    "    def theta(self, x, t=0):\n",
    "        return self.lamb(x)\n",
    "    \n",
    "    def phi(self, x, t=0):\n",
    "        return log(self.lamb(x))\n",
    "    \n",
    "    def Phi(self, theta, x, t=0):\n",
    "        return \n",
    "    \n",
    "    def toleranceFunction(self):\n",
    "        x = self.solution[self.iteration]\n",
    "        f_prime = dict()\n",
    "        for e in self.instance.graph.edges():\n",
    "            f_prime[e] = 0\n",
    "            for i in range(self.instance.num_requests):\n",
    "                if self.new_trees[i].has_edge(*e):\n",
    "                    f_prime[e] += 1\n",
    "    \n",
    "        pf = dict_innerProd(self.p(x), self.f(x))\n",
    "        pf_prime = dict_innerProd(self.p(x), f_prime)\n",
    "        return (pf-pf_prime)/(pf+pf_prime)\n",
    "    \n",
    "    # Main Function\n",
    "    def perform_iteration(self):\n",
    "        x  = tuple(self.get_next_solution())\n",
    "        self.solution.append(x)\n",
    "        self.generate_lamb(x)\n",
    "        self.generate_fVal(x)\n",
    "        self.generate_p(x)\n",
    "        self.generate_q(x)\n",
    "        self.new_trees = self.column_generator.generate_new_trees()\n",
    "            \n",
    "        self.perform_checks_and_updates(x)\n",
    "        \n",
    "        if DEBUG_LEVEL >= DEBUG_LEVEL_THEORY_1:\n",
    "            print(self.iteration)\n",
    "            print(\"lambda(x): {}\".format(self.lamb(x)))\n",
    "            print(\"phi_t(x): {}\".format(self.phi(x)))\n",
    "            print(\"tolerance: {}\".format(self.toleranceFunction()))\n",
    "            \n",
    "        self.iteration += 1"
   ]
  },
  {
   "cell_type": "markdown",
   "id": "d87c859d-3d6b-4201-8e65-e4475bac7e12",
   "metadata": {
    "jp-MarkdownHeadingCollapsed": true,
    "tags": []
   },
   "source": [
    "## Pure Column Generation Solver Class"
   ]
  },
  {
   "cell_type": "code",
   "execution_count": null,
   "id": "d08d2954-ef5f-4283-9066-997203df81d4",
   "metadata": {},
   "outputs": [],
   "source": [
    "class PureColGenMcpSolver(MulticastPackingSolver):\n",
    "    # Constructor\n",
    "    def __init__(self, instance=None, block_solver=None):\n",
    "        super().__init__(instance, block_solver)\n",
    "    \n",
    "    \n",
    "    def get_next_solution(self):\n",
    "        self.reduced_LP.optimize()\n",
    "        return self.reduced_LP.getVars() # We need to think about how to represent solutions\n",
    "    \n",
    "    def perform_checks_and_updates(self, x):\n",
    "        if ( (sum([cost(self.new_trees[i]) for i in range(self.instance.num_requests)]) >= self.lamb(x))\n",
    "            or (all([cost(self.new_trees[i]) - self.q(x)[i] >= 0 for i in range(self.instance.num_requests)]))\n",
    "            or (self.toleranceFunction() <= self.tol) ):\n",
    "                self.stop_flag = True\n",
    "                # Could have different stop flags for different stopping criteria\n",
    "    \n",
    "    def generate_lamb(self, x):\n",
    "        self.objVal[x] = self.reduced_LP.getObjective().getValue()\n",
    "        # Doesn't work if x is not current LP solution\n",
    "    \n",
    "    def generate_fVal(self, x):\n",
    "        self.fVal[x] = dict()\n",
    "        for e in self.instance.graph.edges():\n",
    "            self.fVal[x][e] = self.lamb(x) + self.reduced_LP.getConstrByName(\"{} congestion\".format(sorted(e))).getAttr(gp.GRB.Attr.Slack) # Note: Gurobi signs their slacks stupidly\n",
    "        \n",
    "    def generate_p(self, x, t=0):\n",
    "        self.price[x] = dict()\n",
    "        for e in self.instance.graph.edges():\n",
    "            self.price[x][e] = self.reduced_LP.getConstrByName(\"{} congestion\".format(sorted(e))).getAttr(gp.GRB.Attr.Pi)\n",
    "            if (self.price[x][e] < 0):\n",
    "                print(\"WHAT IS HAPPENING?\")\n",
    "                print(self.iteration)\n",
    "                print(\"lambda(x): {}\".format(self.lamb(x)))\n",
    "                print(\"log lambda(x): {}\".format(log(self.lamb(x))))\n",
    "                print(\"tolerance: {}\".format(self.toleranceFunction()))\n",
    "                print(\"f(x): {}\".format(self.f(x)))\n",
    "                print(\"p(x): {}\".format(self.p(x)))\n",
    "                print(\"q(x): {}\".format(self.q(x)))\n",
    "        nx.set_edge_attributes(self.instance.graph, self.price[x], \"weight\") # I don't think this is how this should be done.\n",
    "    \n",
    "    def generate_q(self, x, t=0):\n",
    "        self.multicast_costs[x] = [None] * len(self.instance.requests)\n",
    "        for i in range(self.instance.num_requests):\n",
    "            self.multicast_costs[x][i] = self.reduced_LP.getConstrByName(\"Tree Selection for {}\".format(i)).getAttr(gp.GRB.Attr.Pi)"
   ]
  },
  {
   "cell_type": "markdown",
   "id": "64f0dcc7-9ebd-4df2-8717-568c1467d85b",
   "metadata": {
    "jp-MarkdownHeadingCollapsed": true,
    "tags": []
   },
   "source": [
    "# Testing"
   ]
  },
  {
   "cell_type": "code",
   "execution_count": null,
   "id": "2a5f0cb0-95cf-4bdb-8c94-b15086c08ff5",
   "metadata": {},
   "outputs": [],
   "source": [
    "def test_instance_generation(num_tests):\n",
    "    assert not is_connected(nx.empty_graph(NUM_NODES))\n",
    "    assert is_connected(get_random_connected_graph())\n",
    "    G = get_random_connected_graph()\n",
    "    for i in range(num_tests):\n",
    "        request = MulticastRequest(MAX_MULTICAST_SIZE, G)\n",
    "        source = request.source\n",
    "        recipients = request.recipients\n",
    "        assert request.source is not None\n",
    "        assert request.recipients\n",
    "        assert not request.source in request.recipients\n",
    "        assert isinstance(request.recipients, set)\n",
    "    instance = MulticastPackingInstance(NUM_MULTICAST_REQUESTS, MAX_MULTICAST_SIZE)\n",
    "    for request in instance.requests:\n",
    "        assert request.source in instance.graph\n",
    "        assert request.recipients.issubset(instance.graph)\n",
    "\n",
    "def test_LP_creation(num_tests):\n",
    "    instance = MulticastPackingInstance(NUM_MULTICAST_REQUESTS, MAX_MULTICAST_SIZE)\n",
    "    reduced_LP = create_LP(instance.graph, instance.requests)\n",
    "    assert len(reduced_LP.getVars()) == 1\n",
    "    assert len(reduced_LP.getConstrs()) == NUM_EDGES + NUM_MULTICAST_REQUESTS, \"Num of constraints: {} Expected: {}\".format(len(reduced_LP.getConstrs()), NUM_EDGES + NUM_MULTICAST_REQUESTS)\n",
    "    \n",
    "def test_subproblem(num_tests):\n",
    "    instance = MulticastPackingInstance(NUM_MULTICAST_REQUESTS, MAX_MULTICAST_SIZE)\n",
    "    reduced_LP = create_LP(instance.graph, instance.requests)\n",
    "    column_generator = MulticastPackingColumnGenerator(instance, reduced_LP)\n",
    "    \n",
    "    new_trees = column_generator.generate_new_trees()\n",
    "    assert (len(new_trees) == instance.num_requests)\n",
    "    for tree in new_trees:\n",
    "        assert(cost(tree) == len(tree.edges()))\n",
    "           \n",
    "    assert(len(reduced_LP.getVars()) == 1+instance.num_requests)\n",
    "    \n",
    "def run_tests(num_tests):\n",
    "    test_instance_generation(num_tests)\n",
    "    test_LP_creation(num_tests)\n",
    "    test_subproblem(num_tests)\n",
    "\n",
    "NUM_TESTS = 100\n",
    "run_tests(NUM_TESTS)"
   ]
  },
  {
   "cell_type": "markdown",
   "id": "4ec470be-3fa7-4c7e-915e-41b926677274",
   "metadata": {
    "jp-MarkdownHeadingCollapsed": true,
    "tags": []
   },
   "source": [
    "# Run the solver"
   ]
  },
  {
   "cell_type": "code",
   "execution_count": null,
   "id": "921b188f-6b08-4c17-8291-93590181f8e4",
   "metadata": {},
   "outputs": [],
   "source": [
    "for i in range(1):\n",
    "    print(\"BEGIN NEW TEST\")\n",
    "    solver = PureColGenMcpSolver()\n",
    "    while(not solver.stop_flag):\n",
    "        solver.perform_iteration()\n",
    "    \n",
    "    #print(\"Natural Prices\")\n",
    "    #solve_multicast_packing_via_columngen(*instance, priceFlag=NATURAL)\n",
    "    #print(\"Uniform Prices\")\n",
    "    #solve_multicast_packing_via_columngen(*instance, priceFlag=UNIFORM)\n",
    "    #print(\"Perturbed Prices\")\n",
    "    #solve_multicast_packing_via_columngen(*instance, priceFlag=PERTURB)"
   ]
  },
  {
   "cell_type": "code",
   "execution_count": null,
   "id": "2970c1bf-26c5-4d41-8274-413205b14ca1",
   "metadata": {},
   "outputs": [],
   "source": []
  }
 ],
 "metadata": {
  "kernelspec": {
   "display_name": "Python 3 (ipykernel)",
   "language": "python",
   "name": "python3"
  },
  "language_info": {
   "codemirror_mode": {
    "name": "ipython",
    "version": 3
   },
   "file_extension": ".py",
   "mimetype": "text/x-python",
   "name": "python",
   "nbconvert_exporter": "python",
   "pygments_lexer": "ipython3",
   "version": "3.9.10"
  }
 },
 "nbformat": 4,
 "nbformat_minor": 5
}
