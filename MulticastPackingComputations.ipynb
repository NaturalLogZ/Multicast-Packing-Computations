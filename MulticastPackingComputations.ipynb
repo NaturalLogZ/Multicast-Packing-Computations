{
 "cells": [
  {
   "cell_type": "markdown",
   "id": "f643a7ef-453b-4a62-b9fe-5079c80aaac4",
   "metadata": {
    "tags": []
   },
   "source": [
    "# Standard Library Modules"
   ]
  },
  {
   "cell_type": "code",
   "execution_count": 1,
   "id": "bd7793f0-3cb6-4f3a-b634-30533eb1a006",
   "metadata": {},
   "outputs": [],
   "source": [
    "import random\n",
    "\n",
    "import time"
   ]
  },
  {
   "cell_type": "markdown",
   "id": "e735038d-1358-4c06-9b44-28fc1ed8e6e2",
   "metadata": {
    "tags": []
   },
   "source": [
    "# Third Party Modules"
   ]
  },
  {
   "cell_type": "code",
   "execution_count": 2,
   "id": "e5e59500-2ffe-44ef-a2b0-a9b0895dfcce",
   "metadata": {},
   "outputs": [],
   "source": [
    "import gurobipy as gp\n",
    "import networkx as nx\n",
    "from networkx.algorithms.approximation.steinertree import steiner_tree as steiner_tree_2\n",
    "import scipy\n",
    "from scipy.optimize import newton\n",
    "from scipy.optimize import root_scalar\n",
    "import sympy\n",
    "from statistics import fmean as mean"
   ]
  },
  {
   "cell_type": "markdown",
   "id": "cd10f2ef-5d60-446f-a349-1e702c3dcf81",
   "metadata": {
    "tags": []
   },
   "source": [
    "# Constants"
   ]
  },
  {
   "cell_type": "markdown",
   "id": "62583b61-edf5-4ac7-9470-fe9bd2c7db39",
   "metadata": {
    "tags": []
   },
   "source": [
    "## Global Constants"
   ]
  },
  {
   "cell_type": "code",
   "execution_count": 3,
   "id": "766e0ad8-fa6e-4706-a18e-db5b6db1e819",
   "metadata": {},
   "outputs": [],
   "source": [
    "import GlobalConstants"
   ]
  },
  {
   "cell_type": "markdown",
   "id": "a34056aa-f2e2-420e-98a4-cd3c76f94820",
   "metadata": {
    "tags": []
   },
   "source": [
    "## Debug Level Flags"
   ]
  },
  {
   "cell_type": "code",
   "execution_count": 4,
   "id": "fb5f0a6f-0aa4-48ac-a329-5dc8e2d6e9de",
   "metadata": {},
   "outputs": [],
   "source": [
    "import DebugConstants as db"
   ]
  },
  {
   "cell_type": "markdown",
   "id": "8f7e88bc-8c97-485d-9b2d-cf75d8298e4b",
   "metadata": {
    "tags": []
   },
   "source": [
    "# Helper Functions"
   ]
  },
  {
   "cell_type": "code",
   "execution_count": null,
   "id": "c51ac806-5d86-4925-a965-089895414e23",
   "metadata": {
    "tags": []
   },
   "outputs": [],
   "source": []
  },
  {
   "cell_type": "markdown",
   "id": "cb5ea106-08a1-47e6-9c13-3302d8ed1e4a",
   "metadata": {
    "tags": []
   },
   "source": [
    "# Generating Problem Instances"
   ]
  },
  {
   "cell_type": "code",
   "execution_count": 5,
   "id": "a5e26a27-d4bc-47fc-8704-c071fdd64b44",
   "metadata": {},
   "outputs": [],
   "source": [
    "from MulticastPackingInstance import MulticastPackingInstance"
   ]
  },
  {
   "cell_type": "markdown",
   "id": "ffeb6e0a-d4e8-4924-8b07-4ed69e91ff40",
   "metadata": {
    "tags": []
   },
   "source": [
    "# Create (Reduced) LP"
   ]
  },
  {
   "cell_type": "code",
   "execution_count": null,
   "id": "c14efbe3-97bb-49db-adab-8bfb4861d495",
   "metadata": {},
   "outputs": [],
   "source": []
  },
  {
   "cell_type": "markdown",
   "id": "f26821fc-8a4b-4764-8cdf-b0602661bad9",
   "metadata": {
    "jp-MarkdownHeadingCollapsed": true,
    "tags": []
   },
   "source": [
    "# Column Generating Subproblem"
   ]
  },
  {
   "cell_type": "markdown",
   "id": "98ac2df2-f716-49e1-941a-0017a2e237e7",
   "metadata": {
    "jp-MarkdownHeadingCollapsed": true,
    "tags": []
   },
   "source": [
    "## Simple 2-Approximate Steiner Tree Column Generator"
   ]
  },
  {
   "cell_type": "code",
   "execution_count": 6,
   "id": "b560a10f-a7d0-4eb1-9e84-a761970c56c7",
   "metadata": {},
   "outputs": [],
   "source": [
    "from Approx2MulticastPackingColumnGenerator import Approx2MulticastPackingColumnGenerator"
   ]
  },
  {
   "cell_type": "markdown",
   "id": "9f9a95c7-6652-455c-b35c-6f1c51e7c4b6",
   "metadata": {
    "jp-MarkdownHeadingCollapsed": true,
    "tags": []
   },
   "source": [
    "## Steiner Tree IP Solving Column Generator"
   ]
  },
  {
   "cell_type": "code",
   "execution_count": 7,
   "id": "9f14c130-b52f-4d74-99a8-2dc2f0ce7b7e",
   "metadata": {},
   "outputs": [],
   "source": [
    "from ExactMulticastPackingColumnGeneratorIP import ExactMulticastPackingColumnGeneratorIP"
   ]
  },
  {
   "cell_type": "markdown",
   "id": "6298cf3d-ad88-4128-b4cb-23823f79cff2",
   "metadata": {
    "jp-MarkdownHeadingCollapsed": true,
    "tags": []
   },
   "source": [
    "# Solvers"
   ]
  },
  {
   "cell_type": "markdown",
   "id": "d87c859d-3d6b-4201-8e65-e4475bac7e12",
   "metadata": {
    "jp-MarkdownHeadingCollapsed": true,
    "tags": []
   },
   "source": [
    "## Pure Column Generation Solver Class"
   ]
  },
  {
   "cell_type": "code",
   "execution_count": 8,
   "id": "d08d2954-ef5f-4283-9066-997203df81d4",
   "metadata": {},
   "outputs": [],
   "source": [
    "from PureColGenMcpSolver import PureColGenMcpSolver"
   ]
  },
  {
   "cell_type": "markdown",
   "id": "9595f474-a0cb-4ee0-b950-97a9b54d86f8",
   "metadata": {
    "jp-MarkdownHeadingCollapsed": true,
    "tags": []
   },
   "source": [
    "## Jansen Zhang 2008 Convex MinMax Solver"
   ]
  },
  {
   "cell_type": "code",
   "execution_count": 9,
   "id": "50d91be1-d397-42d3-b196-28640a9c39ab",
   "metadata": {},
   "outputs": [],
   "source": [
    "from JansenZhangMinMaxer import JansenZhangMinMaxer"
   ]
  },
  {
   "cell_type": "markdown",
   "id": "64f0dcc7-9ebd-4df2-8717-568c1467d85b",
   "metadata": {
    "jp-MarkdownHeadingCollapsed": true,
    "tags": []
   },
   "source": [
    "# Testing"
   ]
  },
  {
   "cell_type": "code",
   "execution_count": 10,
   "id": "2a5f0cb0-95cf-4bdb-8c94-b15086c08ff5",
   "metadata": {},
   "outputs": [],
   "source": [
    "def test_instance_generation(num_tests):\n",
    "    assert not is_connected(nx.empty_graph(NUM_NODES))\n",
    "    assert is_connected(get_random_connected_graph())\n",
    "    G = get_random_connected_graph()\n",
    "    for i in range(num_tests):\n",
    "        request = MulticastRequest(MAX_MULTICAST_SIZE, G)\n",
    "        source = request.source\n",
    "        recipients = request.recipients\n",
    "        assert request.source is not None\n",
    "        assert request.recipients\n",
    "        assert not request.source in request.recipients\n",
    "        assert isinstance(request.recipients, set)\n",
    "    instance = MulticastPackingInstance(NUM_MULTICAST_REQUESTS, MAX_MULTICAST_SIZE)\n",
    "    for request in instance.requests:\n",
    "        assert request.source in instance.graph\n",
    "        assert request.recipients.issubset(instance.graph)\n",
    "\n",
    "def test_LP_creation(num_tests):\n",
    "    instance = MulticastPackingInstance(NUM_MULTICAST_REQUESTS, MAX_MULTICAST_SIZE)\n",
    "    reduced_LP = create_LP(instance.graph, instance.requests)\n",
    "    assert len(reduced_LP.getVars()) == 1\n",
    "    assert len(reduced_LP.getConstrs()) == NUM_EDGES + NUM_MULTICAST_REQUESTS, \"Num of constraints: {} Expected: {}\".format(len(reduced_LP.getConstrs()), NUM_EDGES + NUM_MULTICAST_REQUESTS)\n",
    "    \n",
    "def test_subproblem(num_tests):\n",
    "    instance = MulticastPackingInstance(NUM_MULTICAST_REQUESTS, MAX_MULTICAST_SIZE)\n",
    "    reduced_LP = create_LP(instance.graph, instance.requests)\n",
    "    column_generator = Approx2MulticastPackingColumnGenerator(instance, reduced_LP)\n",
    "    \n",
    "    new_trees = column_generator.generate_new_trees()\n",
    "    assert (len(new_trees) == instance.num_requests)\n",
    "    for tree in new_trees:\n",
    "        assert cost(tree, 1) == len(tree.edges()), \"cost: {} edges: {}\".format(cost(tree, 1), len(tree.edges()))\n",
    "           \n",
    "    assert len(reduced_LP.getVars()) == 1+instance.num_requests\n",
    "    \n",
    "def run_tests(num_tests):\n",
    "    test_instance_generation(num_tests)\n",
    "    test_LP_creation(num_tests)\n",
    "    test_subproblem(num_tests)\n",
    "\n",
    "NUM_TESTS = 0\n",
    "#run_tests(NUM_TESTS)"
   ]
  },
  {
   "cell_type": "markdown",
   "id": "108f02ff-b4ea-4ace-bfc4-62fc640b79dd",
   "metadata": {
    "jp-MarkdownHeadingCollapsed": true,
    "tags": []
   },
   "source": [
    "# Rounding Algorithms"
   ]
  },
  {
   "cell_type": "markdown",
   "id": "0c3a46d2-79b4-4b31-96e5-43095d98b649",
   "metadata": {
    "tags": []
   },
   "source": [
    "## (Totally) Randomized Rounding"
   ]
  },
  {
   "cell_type": "code",
   "execution_count": 11,
   "id": "8789b6bc-d18c-42b9-a321-9635d849d964",
   "metadata": {},
   "outputs": [],
   "source": [
    "def randRoundingHelper(fracSoln):\n",
    "    randNum = random.random()\n",
    "    for T in fracSoln:\n",
    "        randNum -= fracSoln[T]\n",
    "        if randNum < 0:\n",
    "            return T\n",
    "    \n",
    "    \n",
    "def randRounding(MCPsolver):\n",
    "    intSoln = list()\n",
    "    fracSoln = MCPsolver.solution[MCPsolver.iteration-1]\n",
    "    for i in range(MCPsolver.instance.num_requests):\n",
    "        intSoln.append(FrozenDict({randRoundingHelper(fracSoln[i]) : 1}))\n",
    "        \n",
    "    return tuple(intSoln)"
   ]
  },
  {
   "cell_type": "markdown",
   "id": "4ec470be-3fa7-4c7e-915e-41b926677274",
   "metadata": {
    "tags": []
   },
   "source": [
    "# Run the solver"
   ]
  },
  {
   "cell_type": "code",
   "execution_count": 12,
   "id": "921b188f-6b08-4c17-8291-93590181f8e4",
   "metadata": {},
   "outputs": [
    {
     "name": "stdout",
     "output_type": "stream",
     "text": [
      "BEGIN NEW TEST\n",
      "Column Generation - 2-approx\n",
      "Set parameter Username\n",
      "0\n",
      "lambda(x): 1.0\n",
      "phi_t(x): 0.0\n",
      "tolerance: 1.0\n",
      "2\n",
      "lambda(x): 0.6666666666666666\n",
      "phi_t(x): -0.40546510810816444\n",
      "tolerance: 0.0\n",
      "\n",
      "Average Time of Pure Column Generation Iteration with 2-approx block solver: 0.00542363333333314\n",
      "\n",
      "Column Generation - Exact\n",
      "0\n",
      "lambda(x): 1.0\n",
      "phi_t(x): 0.0\n",
      "tolerance: 1.0\n",
      "5\n",
      "lambda(x): 0.6666666666666666\n",
      "phi_t(x): -0.40546510810816444\n",
      "tolerance: 0.0\n",
      "\n",
      "Average Time of Pure Column Generation Iteration with an exact block solver: 0.005322099999999737\n",
      "\n",
      "Jansen-Zhang Algorithm\n",
      "0\n",
      "lambda(x): 1.0\n",
      "phi_t(x): 0.141287145561784\n",
      "tolerance: 0.92\n",
      "100\n",
      "lambda(x): 0.775740871856443\n",
      "phi_t(x): -0.135234340006967\n",
      "tolerance: 0.836491563178971\n",
      "200\n",
      "lambda(x): 0.667591503920206\n",
      "phi_t(x): -0.248055826298516\n",
      "tolerance: 0.134061746767725\n",
      "300\n",
      "lambda(x): 0.666763194321129\n",
      "phi_t(x): -0.320791740195829\n",
      "tolerance: 0.0581407374016145\n",
      "400\n",
      "lambda(x): 0.666780524761558\n",
      "phi_t(x): -0.321185758671627\n",
      "tolerance: 0.0496137152873965\n",
      "500\n",
      "lambda(x): 0.666757149731483\n",
      "phi_t(x): -0.321482183701057\n",
      "tolerance: 0.0442855834295864\n",
      "540\n",
      "lambda(x): 0.666768356847464\n",
      "phi_t(x): -0.321582792072924\n",
      "tolerance: 0.0416207907870043\n",
      "\n",
      "Average Time of Jansen-Zhang Algorithm Iteration: 0.08515682014787432\n"
     ]
    }
   ],
   "source": [
    "for i in range(1):\n",
    "    print(\"BEGIN NEW TEST\")\n",
    "    instance = MulticastPackingInstance(GlobalConstants.NUM_MULTICAST_REQUESTS, GlobalConstants.MAX_MULTICAST_SIZE)\n",
    "    print(\"Column Generation - 2-approx\")\n",
    "    CGsolver = PureColGenMcpSolver(instance=instance)\n",
    "    CGtimer = list()\n",
    "    while(not CGsolver.stop_flag):\n",
    "        prev_time = time.perf_counter()\n",
    "        CGsolver.perform_iteration()\n",
    "        new_time = time.perf_counter()\n",
    "        CGtimer.append(new_time - prev_time)\n",
    "    print()\n",
    "    print(\"Average Time of Pure Column Generation Iteration with 2-approx block solver: {}\".format(mean(CGtimer)))\n",
    "    print()\n",
    "    \n",
    "    print(\"Column Generation - Exact\")\n",
    "    CGsolver2 = PureColGenMcpSolver(instance=instance, block_solver=\"Exact\")\n",
    "    CGtimer2 = list()\n",
    "    while(not CGsolver2.stop_flag):\n",
    "        prev_time = time.perf_counter()\n",
    "        CGsolver2.perform_iteration()\n",
    "        new_time = time.perf_counter()\n",
    "        CGtimer2.append(new_time - prev_time)\n",
    "    print()\n",
    "    print(\"Average Time of Pure Column Generation Iteration with an exact block solver: {}\".format(mean(CGtimer2)))\n",
    "    print()\n",
    "    \n",
    "    print(\"Jansen-Zhang Algorithm\")\n",
    "    JZsolver = JansenZhangMinMaxer(instance=instance)\n",
    "    JZtimer = list()\n",
    "    while(not JZsolver.stop_flag):\n",
    "        prev_time = time.perf_counter()\n",
    "        JZsolver.perform_iteration()\n",
    "        new_time = time.perf_counter()\n",
    "        JZtimer.append(new_time - prev_time)\n",
    "    print()\n",
    "    print(\"Average Time of Jansen-Zhang Algorithm Iteration: {}\".format(mean(JZtimer)))"
   ]
  },
  {
   "cell_type": "code",
   "execution_count": 13,
   "id": "3ebe4db6-d562-409e-bbc4-a0285a3a84b1",
   "metadata": {},
   "outputs": [
    {
     "ename": "NameError",
     "evalue": "name 'fracSolnCG' is not defined",
     "output_type": "error",
     "traceback": [
      "\u001b[1;31m---------------------------------------------------------------------------\u001b[0m",
      "\u001b[1;31mNameError\u001b[0m                                 Traceback (most recent call last)",
      "\u001b[1;32m~\\AppData\\Local\\Temp/ipykernel_36324/2101478342.py\u001b[0m in \u001b[0;36m<module>\u001b[1;34m\u001b[0m\n\u001b[1;32m----> 1\u001b[1;33m \u001b[0mx\u001b[0m \u001b[1;33m=\u001b[0m \u001b[0mfracSolnCG\u001b[0m\u001b[1;33m\u001b[0m\u001b[1;33m\u001b[0m\u001b[0m\n\u001b[0m\u001b[0;32m      2\u001b[0m \u001b[0mz\u001b[0m \u001b[1;33m=\u001b[0m \u001b[0mroundedCG\u001b[0m\u001b[1;33m\u001b[0m\u001b[1;33m\u001b[0m\u001b[0m\n\u001b[0;32m      3\u001b[0m \u001b[1;32mfor\u001b[0m \u001b[0mi\u001b[0m \u001b[1;32min\u001b[0m \u001b[0mrange\u001b[0m\u001b[1;33m(\u001b[0m\u001b[0mlen\u001b[0m\u001b[1;33m(\u001b[0m\u001b[0mx\u001b[0m\u001b[1;33m)\u001b[0m\u001b[1;33m)\u001b[0m\u001b[1;33m:\u001b[0m\u001b[1;33m\u001b[0m\u001b[1;33m\u001b[0m\u001b[0m\n\u001b[0;32m      4\u001b[0m     \u001b[1;32mfor\u001b[0m \u001b[0mT\u001b[0m \u001b[1;32min\u001b[0m \u001b[0mz\u001b[0m\u001b[1;33m[\u001b[0m\u001b[0mi\u001b[0m\u001b[1;33m]\u001b[0m\u001b[1;33m:\u001b[0m\u001b[1;33m\u001b[0m\u001b[1;33m\u001b[0m\u001b[0m\n\u001b[0;32m      5\u001b[0m         \u001b[0mprint\u001b[0m\u001b[1;33m(\u001b[0m\u001b[0mT\u001b[0m\u001b[1;33m)\u001b[0m\u001b[1;33m\u001b[0m\u001b[1;33m\u001b[0m\u001b[0m\n",
      "\u001b[1;31mNameError\u001b[0m: name 'fracSolnCG' is not defined"
     ]
    }
   ],
   "source": [
    "x = fracSolnCG\n",
    "z = roundedCG\n",
    "for i in range(len(x)):\n",
    "    for T in z[i]:\n",
    "        print(T)\n",
    "        print(z[i][T])\n",
    "    for T in x[i]:\n",
    "        print(T)\n",
    "        print(x[i][T])\n"
   ]
  },
  {
   "cell_type": "code",
   "execution_count": null,
   "id": "2d3caf64-8cb9-475b-b903-3fa0335d5287",
   "metadata": {},
   "outputs": [],
   "source": [
    "fracSolnCG = CGsolver.solution[CGsolver.iteration-1]\n",
    "fracSolnCG2 = CGsolver2.solution[CGsolver2.iteration-1]\n",
    "#fracSolnJZ = MCPsolver.solution[MCPsolver.iteration-1]\n",
    "roundedCG = randRounding(CGsolver)\n",
    "roundedCG2 = randRounding(CGsolver2)\n",
    "#roundedJZ = randRounding(JZsolver)\n",
    "print(JZsolver.lamb(roundedCG))\n",
    "print(JZsolver.lamb(roundedCG2))\n",
    "#print(JZsolver.lamb(roundedJZ))"
   ]
  }
 ],
 "metadata": {
  "kernelspec": {
   "display_name": "Python 3 (ipykernel)",
   "language": "python",
   "name": "python3"
  },
  "language_info": {
   "codemirror_mode": {
    "name": "ipython",
    "version": 3
   },
   "file_extension": ".py",
   "mimetype": "text/x-python",
   "name": "python",
   "nbconvert_exporter": "python",
   "pygments_lexer": "ipython3",
   "version": "3.9.10"
  },
  "toc-autonumbering": false,
  "toc-showcode": false,
  "toc-showmarkdowntxt": false,
  "toc-showtags": false
 },
 "nbformat": 4,
 "nbformat_minor": 5
}
