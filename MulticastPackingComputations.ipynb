{
 "cells": [
  {
   "cell_type": "markdown",
   "id": "02b9af15-cb82-4389-918b-a74535c58f64",
   "metadata": {
    "jp-MarkdownHeadingCollapsed": true,
    "tags": []
   },
   "source": [
    "# Imports"
   ]
  },
  {
   "cell_type": "markdown",
   "id": "f643a7ef-453b-4a62-b9fe-5079c80aaac4",
   "metadata": {
    "tags": []
   },
   "source": [
    "## Standard Library Modules"
   ]
  },
  {
   "cell_type": "code",
   "execution_count": null,
   "id": "bd7793f0-3cb6-4f3a-b634-30533eb1a006",
   "metadata": {},
   "outputs": [],
   "source": [
    "from datetime import datetime\n",
    "import csv"
   ]
  },
  {
   "cell_type": "markdown",
   "id": "e735038d-1358-4c06-9b44-28fc1ed8e6e2",
   "metadata": {
    "tags": []
   },
   "source": [
    "## Third Party Modules"
   ]
  },
  {
   "cell_type": "code",
   "execution_count": null,
   "id": "e5e59500-2ffe-44ef-a2b0-a9b0895dfcce",
   "metadata": {},
   "outputs": [],
   "source": []
  },
  {
   "cell_type": "markdown",
   "id": "cd10f2ef-5d60-446f-a349-1e702c3dcf81",
   "metadata": {
    "tags": []
   },
   "source": [
    "## Constants"
   ]
  },
  {
   "cell_type": "markdown",
   "id": "62583b61-edf5-4ac7-9470-fe9bd2c7db39",
   "metadata": {
    "tags": []
   },
   "source": [
    "### Global Constants"
   ]
  },
  {
   "cell_type": "code",
   "execution_count": null,
   "id": "766e0ad8-fa6e-4706-a18e-db5b6db1e819",
   "metadata": {},
   "outputs": [],
   "source": [
    "import GlobalConstants"
   ]
  },
  {
   "cell_type": "markdown",
   "id": "a34056aa-f2e2-420e-98a4-cd3c76f94820",
   "metadata": {
    "tags": []
   },
   "source": [
    "### Debug Level Flags"
   ]
  },
  {
   "cell_type": "code",
   "execution_count": null,
   "id": "fb5f0a6f-0aa4-48ac-a329-5dc8e2d6e9de",
   "metadata": {},
   "outputs": [],
   "source": [
    "#import DebugConstants as db"
   ]
  },
  {
   "cell_type": "markdown",
   "id": "c6e1903a-3df3-4905-81b1-28b56562cdea",
   "metadata": {
    "jp-MarkdownHeadingCollapsed": true,
    "tags": []
   },
   "source": [
    "# Stuff to be Moved"
   ]
  },
  {
   "cell_type": "markdown",
   "id": "64f0dcc7-9ebd-4df2-8717-568c1467d85b",
   "metadata": {
    "jp-MarkdownHeadingCollapsed": true,
    "tags": []
   },
   "source": [
    "## Testing"
   ]
  },
  {
   "cell_type": "code",
   "execution_count": null,
   "id": "2a5f0cb0-95cf-4bdb-8c94-b15086c08ff5",
   "metadata": {},
   "outputs": [],
   "source": [
    "# def test_instance_generation(num_tests):\n",
    "#     assert not is_connected(nx.empty_graph(NUM_NODES))\n",
    "#     assert is_connected(get_random_connected_graph())\n",
    "#     G = get_random_connected_graph()\n",
    "#     for i in range(num_tests):\n",
    "#         request = MulticastRequest(MAX_MULTICAST_SIZE, G)\n",
    "#         source = request.source\n",
    "#         recipients = request.recipients\n",
    "#         assert request.source is not None\n",
    "#         assert request.recipients\n",
    "#         assert not request.source in request.recipients\n",
    "#         assert isinstance(request.recipients, set)\n",
    "#     instance = MulticastPackingInstance(NUM_MULTICAST_REQUESTS, MAX_MULTICAST_SIZE)\n",
    "#     for request in instance.requests:\n",
    "#         assert request.source in instance.graph\n",
    "#         assert request.recipients.issubset(instance.graph)\n",
    "\n",
    "# def test_LP_creation(num_tests):\n",
    "#     instance = MulticastPackingInstance(NUM_MULTICAST_REQUESTS, MAX_MULTICAST_SIZE)\n",
    "#     reduced_LP = create_LP(instance.graph, instance.requests)\n",
    "#     assert len(reduced_LP.getVars()) == 1\n",
    "#     assert len(reduced_LP.getConstrs()) == NUM_EDGES + NUM_MULTICAST_REQUESTS, \"Num of constraints: {} Expected: {}\".format(len(reduced_LP.getConstrs()), NUM_EDGES + NUM_MULTICAST_REQUESTS)\n",
    "    \n",
    "# def test_subproblem(num_tests):\n",
    "#     instance = MulticastPackingInstance(NUM_MULTICAST_REQUESTS, MAX_MULTICAST_SIZE)\n",
    "#     reduced_LP = create_LP(instance.graph, instance.requests)\n",
    "#     column_generator = Approx2MulticastPackingColumnGenerator(instance, reduced_LP)\n",
    "    \n",
    "#     new_trees = column_generator.generate_new_trees()\n",
    "#     assert (len(new_trees) == instance.num_requests)\n",
    "#     for tree in new_trees:\n",
    "#         assert cost(tree, 1) == len(tree.edges()), \"cost: {} edges: {}\".format(cost(tree, 1), len(tree.edges()))\n",
    "           \n",
    "#     assert len(reduced_LP.getVars()) == 1+instance.num_requests\n",
    "    \n",
    "# def run_tests(num_tests):\n",
    "#     test_instance_generation(num_tests)\n",
    "#     test_LP_creation(num_tests)\n",
    "#     test_subproblem(num_tests)\n",
    "\n",
    "# NUM_TESTS = 0\n",
    "# #run_tests(NUM_TESTS)"
   ]
  },
  {
   "cell_type": "markdown",
   "id": "108f02ff-b4ea-4ace-bfc4-62fc640b79dd",
   "metadata": {
    "tags": []
   },
   "source": [
    "## Rounding Algorithms"
   ]
  },
  {
   "cell_type": "markdown",
   "id": "0c3a46d2-79b4-4b31-96e5-43095d98b649",
   "metadata": {
    "tags": []
   },
   "source": [
    "### (Totally) Randomized Rounding"
   ]
  },
  {
   "cell_type": "code",
   "execution_count": null,
   "id": "8789b6bc-d18c-42b9-a321-9635d849d964",
   "metadata": {},
   "outputs": [],
   "source": [
    "def randRoundingHelper(fracSoln):\n",
    "    randNum = random.random()\n",
    "    for T in fracSoln:\n",
    "        randNum -= fracSoln[T]\n",
    "        if randNum < 0:\n",
    "            return T\n",
    "    \n",
    "    \n",
    "def randRounding(MCPsolver):\n",
    "    intSoln = list()\n",
    "    fracSoln = MCPsolver.solution[MCPsolver.iteration-1]\n",
    "    for i in range(MCPsolver.instance.num_requests):\n",
    "        intSoln.append(FrozenDict({randRoundingHelper(fracSoln[i]) : 1}))\n",
    "        \n",
    "    return tuple(intSoln)"
   ]
  },
  {
   "cell_type": "markdown",
   "id": "4ec470be-3fa7-4c7e-915e-41b926677274",
   "metadata": {
    "jp-MarkdownHeadingCollapsed": true,
    "tags": []
   },
   "source": [
    "# Run the solver"
   ]
  },
  {
   "cell_type": "code",
   "execution_count": null,
   "id": "38a7ba69-5fa1-4f9c-9f7f-002aa460a69c",
   "metadata": {},
   "outputs": [],
   "source": [
    "from RunExpirement import runExpirement\n",
    "datetime_str = datetime.now().strftime(\"%Y-%m-%d_%H_%M\")\n",
    "print(datetime_str)\n",
    "tableHeaders = [\"Label\",\n",
    "                \"Solver\", \n",
    "                \"Block Apx Ratio\", \n",
    "                \"Vertices\",\n",
    "                \"Edges\",\n",
    "                \"Requests\",\n",
    "                \"Group Size\", \n",
    "                \"Max Delay\",\n",
    "                \"Congestion\", \n",
    "                \"Potential\",\n",
    "                \"Iterations\",\n",
    "                \"Total Time\",\n",
    "                \"Avg. Time/It\",\n",
    "                \"Stop Flags\"\n",
    "                ]\n",
    "with open(\"outputs/{}.csv\".format(datetime_str),'w') as allFile:\n",
    "        allWriter = csv.writer(allFile)\n",
    "        allWriter.writerow(tableHeaders)\n",
    "        \n",
    "with open(\"outputs/summaries/summary_{}.csv\".format(datetime_str),'w') as sumFile:\n",
    "        sumWriter = csv.writer(sumFile)\n",
    "        sumWriter.writerow(tableHeaders)"
   ]
  },
  {
   "cell_type": "code",
   "execution_count": null,
   "id": "ec73d318-bce9-403e-add7-6bebcc6a3f46",
   "metadata": {
    "tags": []
   },
   "outputs": [],
   "source": [
    "paramList = []\n",
    "paramList += [(\"Requests\",\n",
    "               3*GlobalConstants.NUM_NODES, \n",
    "               3*GlobalConstants.NUM_EDGES, \n",
    "               i,\n",
    "               3*GlobalConstants.MAX_MULTICAST_SIZE,\n",
    "               3*GlobalConstants.DELAY\n",
    "              ) for i in range(1, 26, 3)]\n",
    "paramList += [(\"Group Size\",\n",
    "               3*GlobalConstants.NUM_NODES, \n",
    "               3*GlobalConstants.NUM_EDGES, \n",
    "               3*GlobalConstants.NUM_MULTICAST_REQUESTS, \n",
    "               i,\n",
    "               3*GlobalConstants.DELAY\n",
    "              ) for i in range(2, 3*GlobalConstants.NUM_NODES+1, 5)]\n",
    "\n",
    "paramList += [(\"Instance size\",\n",
    "               2*i, # Nodes\n",
    "               3*i, # Edges\n",
    "               2*i, # Requests\n",
    "                 i, # Group Size\n",
    "                 0  # Delay\n",
    "              ) for i in range(5, 51, 5) ]\n",
    "\n",
    "numReps = 1\n",
    "\n",
    "solverList = runExpirement(datetime_str, numReps, paramList, [1, 2], [\"CG\",\"PC\"])"
   ]
  },
  {
   "cell_type": "markdown",
   "id": "7d79cc35-691a-4711-84d0-2912fadec324",
   "metadata": {
    "jp-MarkdownHeadingCollapsed": true,
    "tags": []
   },
   "source": [
    "# End"
   ]
  },
  {
   "cell_type": "code",
   "execution_count": null,
   "id": "6a803d26-516f-440a-bc43-fe9fec646b70",
   "metadata": {},
   "outputs": [],
   "source": [
    "for solver in solverList:\n",
    "    print(type(solver))\n",
    "    print(solver.t)\n",
    "    print(\"{:05b}\".format(solver.stop_flag))"
   ]
  },
  {
   "cell_type": "code",
   "execution_count": null,
   "id": "055b4c62-c836-469f-b958-a0c78a95ae3b",
   "metadata": {},
   "outputs": [],
   "source": []
  }
 ],
 "metadata": {
  "kernelspec": {
   "display_name": "Python 3 (ipykernel)",
   "language": "python",
   "name": "python3"
  },
  "language_info": {
   "codemirror_mode": {
    "name": "ipython",
    "version": 3
   },
   "file_extension": ".py",
   "mimetype": "text/x-python",
   "name": "python",
   "nbconvert_exporter": "python",
   "pygments_lexer": "ipython3",
   "version": "3.9.10"
  },
  "toc-autonumbering": false,
  "toc-showcode": false,
  "toc-showmarkdowntxt": false,
  "toc-showtags": false
 },
 "nbformat": 4,
 "nbformat_minor": 5
}
