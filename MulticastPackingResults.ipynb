{
 "cells": [
  {
   "cell_type": "markdown",
   "id": "f7aad346-bc1b-46eb-91af-8381dfcbd544",
   "metadata": {
    "tags": []
   },
   "source": [
    "# Imports"
   ]
  },
  {
   "cell_type": "markdown",
   "id": "f643a7ef-453b-4a62-b9fe-5079c80aaac4",
   "metadata": {
    "tags": []
   },
   "source": [
    "## Standard Library Modules"
   ]
  },
  {
   "cell_type": "code",
   "execution_count": null,
   "id": "bd7793f0-3cb6-4f3a-b634-30533eb1a006",
   "metadata": {},
   "outputs": [],
   "source": []
  },
  {
   "cell_type": "markdown",
   "id": "e735038d-1358-4c06-9b44-28fc1ed8e6e2",
   "metadata": {
    "tags": []
   },
   "source": [
    "## Third Party Modules"
   ]
  },
  {
   "cell_type": "code",
   "execution_count": null,
   "id": "e5e59500-2ffe-44ef-a2b0-a9b0895dfcce",
   "metadata": {},
   "outputs": [],
   "source": [
    "import pandas as pd"
   ]
  },
  {
   "cell_type": "markdown",
   "id": "cd10f2ef-5d60-446f-a349-1e702c3dcf81",
   "metadata": {
    "tags": []
   },
   "source": [
    "## Constants"
   ]
  },
  {
   "cell_type": "markdown",
   "id": "62583b61-edf5-4ac7-9470-fe9bd2c7db39",
   "metadata": {
    "tags": []
   },
   "source": [
    "### Global Constants"
   ]
  },
  {
   "cell_type": "code",
   "execution_count": null,
   "id": "766e0ad8-fa6e-4706-a18e-db5b6db1e819",
   "metadata": {},
   "outputs": [],
   "source": [
    "import GlobalConstants"
   ]
  },
  {
   "cell_type": "markdown",
   "id": "a34056aa-f2e2-420e-98a4-cd3c76f94820",
   "metadata": {
    "tags": []
   },
   "source": [
    "### Debug Level Flags"
   ]
  },
  {
   "cell_type": "code",
   "execution_count": null,
   "id": "fb5f0a6f-0aa4-48ac-a329-5dc8e2d6e9de",
   "metadata": {},
   "outputs": [],
   "source": [
    "#import DebugConstants as db"
   ]
  },
  {
   "cell_type": "markdown",
   "id": "4ec470be-3fa7-4c7e-915e-41b926677274",
   "metadata": {
    "tags": []
   },
   "source": [
    "# Get Data"
   ]
  },
  {
   "cell_type": "code",
   "execution_count": null,
   "id": "fa2b5ee9-43c4-4183-8aa4-d05add66b7a8",
   "metadata": {
    "tags": []
   },
   "outputs": [],
   "source": [
    "datetime_str = \"2022-06-14_15_48\"\n",
    "results = pd.read_csv(\"outputs/{}.csv\".format(datetime_str))\n",
    "#print(results)"
   ]
  },
  {
   "cell_type": "markdown",
   "id": "5fb799c5-57ca-46d6-8961-96031565cdbb",
   "metadata": {
    "tags": []
   },
   "source": [
    "# Tables and Figures"
   ]
  },
  {
   "cell_type": "code",
   "execution_count": null,
   "id": "4789ab9b-921d-4da8-ab45-68956e277229",
   "metadata": {
    "tags": []
   },
   "outputs": [],
   "source": [
    "cg2Results = results[(results[\"Solver\"] == \"CG\") \n",
    "                     & (results[\"Block Apx Ratio\"] == 2)][[\n",
    "                        #\"Vertices\",\n",
    "                        #\"Edges\",\n",
    "                        \"Requests\",\n",
    "                        \"Group Size\",\n",
    "                        \"Congestion\", \n",
    "                        \"Iterations\",\n",
    "                        \"Avg. Time/It\",\n",
    "                        \"Total Time\",\n",
    "                ]]"
   ]
  },
  {
   "cell_type": "code",
   "execution_count": null,
   "id": "2ae77d69-e8e4-4936-ad97-fee69b47bcb9",
   "metadata": {
    "tags": []
   },
   "outputs": [],
   "source": [
    "cg1Results = results[(results[\"Solver\"] == \"CG\") \n",
    "                     & (results[\"Block Apx Ratio\"] == 1)][[\n",
    "                        #\"Vertices\",\n",
    "                        #\"Edges\",\n",
    "                        \"Requests\",\n",
    "                        \"Group Size\",\n",
    "                        \"Congestion\", \n",
    "                        \"Iterations\",\n",
    "                        \"Avg. Time/It\",\n",
    "                        \"Total Time\",\n",
    "                        \"Stop Flags\"\n",
    "                ]]"
   ]
  },
  {
   "cell_type": "code",
   "execution_count": null,
   "id": "dc0b039a-bde1-4300-a04d-ab133366976e",
   "metadata": {
    "tags": []
   },
   "outputs": [],
   "source": [
    "print(cg2Results)\n",
    "print(cg1Results)"
   ]
  },
  {
   "cell_type": "markdown",
   "id": "6690098c-f275-4cd5-a060-688789d74b8a",
   "metadata": {
    "tags": []
   },
   "source": [
    "## _____ vs Num Requests"
   ]
  },
  {
   "cell_type": "markdown",
   "id": "99360c9f-d137-4d46-bc8f-7c3e475afd8b",
   "metadata": {},
   "source": [
    "### Congestion"
   ]
  },
  {
   "cell_type": "code",
   "execution_count": null,
   "id": "e8d3ffb2-a918-4461-93c1-0b8c2c4c316a",
   "metadata": {
    "tags": []
   },
   "outputs": [],
   "source": [
    "results.set_index(\"Requests\").groupby(\"Block Apx Ratio\")[\"Congestion\"].plot(legend=True)"
   ]
  },
  {
   "cell_type": "markdown",
   "id": "da7f1b0e-3d24-46dc-a7de-e608cda48279",
   "metadata": {},
   "source": [
    "### Iterations"
   ]
  },
  {
   "cell_type": "code",
   "execution_count": null,
   "id": "b42fe17e-9f67-4779-be99-a574dde221c4",
   "metadata": {
    "tags": []
   },
   "outputs": [],
   "source": [
    "results.set_index(\"Requests\").groupby(\"Block Apx Ratio\")[\"Iterations\"].plot(legend=True)"
   ]
  },
  {
   "cell_type": "markdown",
   "id": "56deab20-8de9-406a-9d1e-86bf802f7832",
   "metadata": {},
   "source": [
    "### Total Time"
   ]
  },
  {
   "cell_type": "code",
   "execution_count": null,
   "id": "aba71ce1-b19e-4b79-bd3b-a485f47b9ea3",
   "metadata": {},
   "outputs": [],
   "source": [
    "results.set_index(\"Requests\").groupby(\"Block Apx Ratio\")[\"Total Time\"].plot(legend=True)"
   ]
  },
  {
   "cell_type": "markdown",
   "id": "6933e47b-c54a-48ab-8c5d-566124222964",
   "metadata": {
    "tags": []
   },
   "source": [
    "## _____ vs Group Size"
   ]
  },
  {
   "cell_type": "markdown",
   "id": "bbbc0ffd-b016-46ba-9484-e6e60047899b",
   "metadata": {},
   "source": [
    "### Congestion"
   ]
  },
  {
   "cell_type": "code",
   "execution_count": null,
   "id": "cf6b47a3-aac9-4bfb-9109-de8490a0ebe0",
   "metadata": {},
   "outputs": [],
   "source": [
    "results.set_index(\"Group Size\").groupby(\"Block Apx Ratio\")[\"Congestion\"].plot(legend=True)"
   ]
  },
  {
   "cell_type": "markdown",
   "id": "0638b6e1-f121-4b27-b756-120d91c0196b",
   "metadata": {},
   "source": [
    "### Iterations"
   ]
  },
  {
   "cell_type": "code",
   "execution_count": null,
   "id": "34f5f4a6-88fc-440a-b7a6-a472128ed156",
   "metadata": {},
   "outputs": [],
   "source": [
    "results.set_index(\"Group Size\").groupby(\"Block Apx Ratio\")[\"Iterations\"].plot(legend=True)"
   ]
  },
  {
   "cell_type": "markdown",
   "id": "9c0ff925-1231-4a07-889a-6918f6994e43",
   "metadata": {},
   "source": [
    "### Total Time"
   ]
  },
  {
   "cell_type": "code",
   "execution_count": null,
   "id": "caa60140-df4e-43d6-8454-0edf9242e71d",
   "metadata": {},
   "outputs": [],
   "source": [
    "results.set_index(\"Group Size\").groupby(\"Block Apx Ratio\")[\"Total Time\"].plot(legend=True)"
   ]
  },
  {
   "cell_type": "markdown",
   "id": "923d2b14-83be-475b-a60a-9f13a830e057",
   "metadata": {
    "tags": []
   },
   "source": [
    "## Old Stuff"
   ]
  },
  {
   "cell_type": "code",
   "execution_count": null,
   "id": "07de6a05-7fc9-4b79-b90e-1db2c62180eb",
   "metadata": {},
   "outputs": [],
   "source": [
    "# numReqResults = results[results[\"Group Size\"] == 15].groupby(\"Requests\").mean()\n",
    "# groupSizeResults = results[results[\"Requests\"] == 6].groupby(\"Group Size\").mean()\n",
    "\n",
    "# #print(numReqResults)\n",
    "# #print(groupSizeResults)"
   ]
  },
  {
   "cell_type": "code",
   "execution_count": null,
   "id": "a709b4ff-73da-477e-8a1b-937bc4e3ddfe",
   "metadata": {},
   "outputs": [],
   "source": [
    "# numReqResults[\"Iterations\"].plot(\n",
    "#     title=\"Number of Iterations v. Number of Multicast Requests in an instance\"\n",
    "#     + \"\\n\" + \"with {} nodes, {} edges, and Multicast groups of size {}.\".format(\n",
    "#         numReqResults[\"Vertices\"].iloc[0],\n",
    "#         numReqResults[\"Edges\"].iloc[0],\n",
    "#         numReqResults[\"Group Size\"].iloc[0]\n",
    "#         ),\n",
    "#     ylabel=\"Iterations\")"
   ]
  },
  {
   "cell_type": "code",
   "execution_count": null,
   "id": "b1390f14-d7b9-424c-95a5-5beec5828829",
   "metadata": {},
   "outputs": [],
   "source": [
    "# numReqResults[\"Total Time\"].plot(\n",
    "#     title=\"Total Running Time v. Number of Multicast Requests in an instance\"\n",
    "#     + \"\\n\" + \"with {} nodes, {} edges, and Multicast groups of size {}.\".format(\n",
    "#         numReqResults[\"Vertices\"].iloc[0],\n",
    "#         numReqResults[\"Edges\"].iloc[0],\n",
    "#         numReqResults[\"Group Size\"].iloc[0]\n",
    "#         ),\n",
    "#     ylabel=\"Total Time (s)\")"
   ]
  },
  {
   "cell_type": "code",
   "execution_count": null,
   "id": "3c1edeff-5d73-4804-9809-d14b1507b1b8",
   "metadata": {},
   "outputs": [],
   "source": [
    "# groupSizeResults[\"Iterations\"].plot(\n",
    "#     title=\"Number of Iterations v. Multicast Group Size in an instance \"\n",
    "#     + \"\\n\" + \"with {} nodes, {} edges, and {} Multicast requests.\".format(\n",
    "#         groupSizeResults[\"Vertices\"].iloc[0],\n",
    "#         groupSizeResults[\"Edges\"].iloc[0],\n",
    "#         groupSizeResults[\"Requests\"].iloc[0]\n",
    "#         ),\n",
    "#     ylabel=\"Iterations\")"
   ]
  },
  {
   "cell_type": "code",
   "execution_count": null,
   "id": "5f46738d-4125-436b-9fcd-f550e2c38c0a",
   "metadata": {},
   "outputs": [],
   "source": [
    "# groupSizeResults[\"Total Time\"].plot(\n",
    "#     title=\"Total Running Time v. Multicast Group Size in an instance \"\n",
    "#     + \"\\n\" + \"with {} nodes, {} edges, and {} Multicast requests.\".format(\n",
    "#         groupSizeResults[\"Vertices\"].iloc[0],\n",
    "#         groupSizeResults[\"Edges\"].iloc[0],\n",
    "#         groupSizeResults[\"Requests\"].iloc[0]\n",
    "#         ),\n",
    "#     ylabel=\"Total Time (s)\")"
   ]
  },
  {
   "cell_type": "markdown",
   "id": "0fe438e2-9182-473b-b48d-9bd81fa2fe55",
   "metadata": {
    "jp-MarkdownHeadingCollapsed": true,
    "tags": []
   },
   "source": [
    "## May 3rd"
   ]
  },
  {
   "cell_type": "code",
   "execution_count": null,
   "id": "ca710805-b81b-4f64-a44b-24a27abb5a72",
   "metadata": {},
   "outputs": [],
   "source": [
    "oldresults = pd.read_csv(\"outputs/2022-05-03_13_43.csv\")"
   ]
  },
  {
   "cell_type": "code",
   "execution_count": null,
   "id": "c33ea1e1-b4fe-4955-9c2f-35c072b2a0b0",
   "metadata": {},
   "outputs": [],
   "source": [
    "cg2Results = oldresults[(oldresults[\"Solver\"] == \"CG\") & (oldresults[\"Block Apx Ratio\"] == 2)][[\n",
    "                     \"Vertices\",\n",
    "                     \"Edges\",\n",
    "                     \"Congestion\", \n",
    "                     \"Iterations\",\n",
    "                     \"Total Time\",\n",
    "                ]]\n",
    "jz2Results = oldresults[(oldresults[\"Solver\"] == \"JZ\") & (oldresults[\"Block Apx Ratio\"] == 2)][[\n",
    "                     \"Vertices\",\n",
    "                     \"Edges\",\n",
    "                     \"Congestion\", \n",
    "                     \"Iterations\",\n",
    "                     \"Total Time\",\n",
    "                ]]\n",
    "cg1Results = oldresults[(oldresults[\"Solver\"] == \"CG\") & (oldresults[\"Block Apx Ratio\"] == 1)][[\n",
    "                     \"Vertices\",\n",
    "                     \"Edges\",\n",
    "                     \"Congestion\", \n",
    "                     \"Iterations\",\n",
    "                     \"Total Time\",\n",
    "                ]]\n",
    "ip1Results = oldresults[(oldresults[\"Solver\"] == \"IP\") & (oldresults[\"Block Apx Ratio\"] == 1)][[\n",
    "                     \"Vertices\",\n",
    "                     \"Edges\",\n",
    "                     \"Congestion\", \n",
    "                     \"Iterations\",\n",
    "                     \"Total Time\",\n",
    "                ]]\n",
    "display(cg2Results.sort_values(by=\"Vertices\"))\n",
    "display(jz2Results.sort_values(by=\"Vertices\"))\n",
    "display(cg1Results.sort_values(by=\"Vertices\"))"
   ]
  },
  {
   "cell_type": "code",
   "execution_count": null,
   "id": "3528d2d0-0c26-4d88-a9cd-61c3532d5767",
   "metadata": {},
   "outputs": [],
   "source": [
    "sparsity_df = oldresults[oldresults[\"Vertices\"] == 50]\n",
    "sparsity_df = sparsity_df.pivot(index=\"Edges\", columns=[\"Solver\", \"Block Apx Ratio\"], values=\"Iterations\")\n",
    "sparsity_df.plot()"
   ]
  },
  {
   "cell_type": "markdown",
   "id": "7d79cc35-691a-4711-84d0-2912fadec324",
   "metadata": {},
   "source": [
    "# End"
   ]
  }
 ],
 "metadata": {
  "kernelspec": {
   "display_name": "Python 3 (ipykernel)",
   "language": "python",
   "name": "python3"
  },
  "language_info": {
   "codemirror_mode": {
    "name": "ipython",
    "version": 3
   },
   "file_extension": ".py",
   "mimetype": "text/x-python",
   "name": "python",
   "nbconvert_exporter": "python",
   "pygments_lexer": "ipython3",
   "version": "3.9.10"
  },
  "toc-autonumbering": true,
  "toc-showcode": false,
  "toc-showmarkdowntxt": false,
  "toc-showtags": false
 },
 "nbformat": 4,
 "nbformat_minor": 5
}
